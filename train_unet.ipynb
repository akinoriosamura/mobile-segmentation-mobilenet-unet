{
 "cells": [
  {
   "cell_type": "code",
   "execution_count": 1,
   "metadata": {
    "ExecuteTime": {
     "end_time": "2018-11-09T09:13:03.124836Z",
     "start_time": "2018-11-09T09:13:02.276867Z"
    }
   },
   "outputs": [
    {
     "data": {
      "text/plain": [
       "<torch._C.Generator at 0x7f997f613750>"
      ]
     },
     "execution_count": 1,
     "metadata": {},
     "output_type": "execute_result"
    }
   ],
   "source": [
    "import logging\n",
    "import os\n",
    "\n",
    "import numpy as np\n",
    "import pandas as pd\n",
    "import torch\n",
    "from sklearn.model_selection import KFold\n",
    "from tensorboardX import SummaryWriter\n",
    "from torch.optim import Adam\n",
    "from torch.utils.data import DataLoader\n",
    "from torchvision.transforms import Compose, RandomResizedCrop, RandomRotation, RandomHorizontalFlip, ToTensor, \\\n",
    "    Resize, RandomAffine, ColorJitter\n",
    "\n",
    "from dataset import MaskDataset, get_img_files\n",
    "from loss import dice_loss\n",
    "from nets.MobileNetV2_unet import MobileNetV2_unet\n",
    "from trainer import Trainer\n",
    "\n",
    "np.random.seed(1)\n",
    "torch.backends.cudnn.deterministic = True\n",
    "torch.manual_seed(1)"
   ]
  },
  {
   "cell_type": "code",
   "execution_count": 2,
   "metadata": {
    "ExecuteTime": {
     "end_time": "2018-11-09T09:13:03.130177Z",
     "start_time": "2018-11-09T09:13:03.126092Z"
    },
    "collapsed": true
   },
   "outputs": [],
   "source": [
    "N_CV = 5\n",
    "BATCH_SIZE = 8\n",
    "LR = 1e-4\n",
    "\n",
    "N_EPOCHS = 100\n",
    "IMG_SIZE = 224\n",
    "RANDOM_STATE = 1\n",
    "\n",
    "EXPERIMENT = 'train_unet'\n",
    "OUT_DIR = 'outputs/{}'.format(EXPERIMENT)"
   ]
  },
  {
   "cell_type": "code",
   "execution_count": 3,
   "metadata": {
    "ExecuteTime": {
     "end_time": "2018-11-09T09:13:03.255257Z",
     "start_time": "2018-11-09T09:13:03.131332Z"
    },
    "collapsed": true
   },
   "outputs": [],
   "source": [
    "def get_data_loaders(train_files, val_files):\n",
    "    train_transform = Compose([\n",
    "        ColorJitter(0.3, 0.3, 0.3, 0.3),\n",
    "        RandomResizedCrop(IMG_SIZE, scale=(0.8, 1.2)),\n",
    "        RandomAffine(10.),\n",
    "        RandomRotation(13.),\n",
    "        RandomHorizontalFlip(),\n",
    "        ToTensor(),\n",
    "    ])\n",
    "    val_transform = Compose([\n",
    "        Resize((IMG_SIZE, IMG_SIZE)),\n",
    "        ToTensor(),\n",
    "    ])\n",
    "\n",
    "    train_loader = DataLoader(MaskDataset(train_files, train_transform),\n",
    "                              batch_size=BATCH_SIZE,\n",
    "                              shuffle=True,\n",
    "                              pin_memory=True,\n",
    "                              num_workers=4)\n",
    "    val_loader = DataLoader(MaskDataset(val_files, val_transform),\n",
    "                            batch_size=BATCH_SIZE,\n",
    "                            shuffle=False,\n",
    "                            pin_memory=True,\n",
    "                            num_workers=4)\n",
    "\n",
    "    return train_loader, val_loader\n",
    "\n",
    "\n",
    "def save_best_model(cv, model, df_hist):\n",
    "    if df_hist['val_loss'].tail(1).iloc[0] <= df_hist['val_loss'].min():\n",
    "        torch.save(model.state_dict(), '{}/{}-best.pth'.format(OUT_DIR, cv))\n",
    "\n",
    "\n",
    "def write_on_board(writer, df_hist):\n",
    "    row = df_hist.tail(1).iloc[0]\n",
    "\n",
    "    writer.add_scalars('{}/loss'.format(EXPERIMENT), {\n",
    "        'train': row.train_loss,\n",
    "        'val': row.val_loss,\n",
    "    }, row.epoch)\n",
    "\n",
    "\n",
    "def log_hist(df_hist):\n",
    "    last = df_hist.tail(1)\n",
    "    best = df_hist.sort_values('val_loss').head(1)\n",
    "    summary = pd.concat((last, best)).reset_index(drop=True)\n",
    "    summary['name'] = ['Last', 'Best']\n",
    "    logger.debug(summary[['name', 'epoch', 'train_loss', 'val_loss']])\n",
    "    logger.debug('')\n",
    "\n",
    "\n",
    "def run_cv():\n",
    "    image_files = get_img_files()\n",
    "    kf = KFold(n_splits=N_CV, random_state=RANDOM_STATE, shuffle=True)\n",
    "\n",
    "    device = torch.device(\"cuda\" if torch.cuda.is_available() else \"cpu\")\n",
    "\n",
    "    for n, (train_idx, val_idx) in enumerate(kf.split(image_files)):\n",
    "        train_files = image_files[train_idx]\n",
    "        val_files = image_files[val_idx]\n",
    "\n",
    "        writer = SummaryWriter()\n",
    "\n",
    "        def on_after_epoch(m, df_hist):\n",
    "            save_best_model(n, m, df_hist)\n",
    "            write_on_board(writer, df_hist)\n",
    "            log_hist(df_hist)\n",
    "\n",
    "        criterion = dice_loss(scale=2)\n",
    "        data_loaders = get_data_loaders(train_files, val_files)\n",
    "        trainer = Trainer(data_loaders, criterion, device, on_after_epoch)\n",
    "\n",
    "        model = MobileNetV2_unet()\n",
    "        model.to(device)\n",
    "        optimizer = Adam(model.parameters(), lr=LR)\n",
    "\n",
    "        hist = trainer.train(model, optimizer, num_epochs=N_EPOCHS)\n",
    "        hist.to_csv('{}/{}-hist.csv'.format(OUT_DIR, n), index=False)\n",
    "\n",
    "        writer.close()\n",
    "\n",
    "        break"
   ]
  },
  {
   "cell_type": "code",
   "execution_count": 4,
   "metadata": {
    "ExecuteTime": {
     "end_time": "2018-11-09T09:49:11.502712Z",
     "start_time": "2018-11-09T09:13:03.256353Z"
    }
   },
   "outputs": [],
   "source": [
    "if not os.path.exists(OUT_DIR):\n",
    "    os.makedirs(OUT_DIR)\n",
    "\n",
    "logger = logging.getLogger(\"logger\")\n",
    "logger.setLevel(logging.DEBUG)\n",
    "if not logger.hasHandlers():\n",
    "    logger.addHandler(logging.FileHandler(filename=\"outputs/{}.log\".format(EXPERIMENT)))\n",
    "\n",
    "run_cv()"
   ]
  },
  {
   "cell_type": "code",
   "execution_count": null,
   "metadata": {
    "collapsed": true
   },
   "outputs": [],
   "source": []
  }
 ],
 "metadata": {
  "kernelspec": {
   "display_name": "Python 3",
   "language": "python",
   "name": "python3"
  },
  "language_info": {
   "codemirror_mode": {
    "name": "ipython",
    "version": 3
   },
   "file_extension": ".py",
   "mimetype": "text/x-python",
   "name": "python",
   "nbconvert_exporter": "python",
   "pygments_lexer": "ipython3",
   "version": "3.6.4"
  }
 },
 "nbformat": 4,
 "nbformat_minor": 2
}
